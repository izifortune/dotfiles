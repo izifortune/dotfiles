{
 "cells": [
  {
   "cell_type": "code",
   "execution_count": 10,
   "metadata": {},
   "outputs": [],
   "source": [
    "import numpy as np\n",
    "import pandas as pd\n",
    "import matplotlib.pyplot as plt\n",
    "import seaborn as sns\n",
    "import matplotlib.dates as mdates\n",
    "plt.style.use('fivethirtyeight')"
   ]
  },
  {
   "cell_type": "code",
   "execution_count": 11,
   "metadata": {},
   "outputs": [],
   "source": [
    "df = pd.read_csv('/Users/fortunatof/code/knowledge/content/ryanair/cloud-reports/data/weekly-jira-2021-02-08.csv')\n",
    "prevWeekStartDate = '2021-02-01'"
   ]
  },
  {
   "cell_type": "code",
   "execution_count": 12,
   "metadata": {},
   "outputs": [],
   "source": [
    "df['createdDate'] = pd.to_datetime(df['Created'], format=\"%d/%b/%y %H:%M %p\")\n",
    "df = df.rename(columns={'Custom field (Scrum Team)': 'ScrumTeam'})\n",
    "def groupIssues(x):\n",
    "    if x == 'Bug':\n",
    "        return x\n",
    "    else:\n",
    "        return 'Task'\n",
    "df['IssueTypeRemap'] = df['Issue Type'].apply(groupIssues)"
   ]
  },
  {
   "cell_type": "markdown",
   "metadata": {},
   "source": [
    "## Weekly task to bugs ratio"
   ]
  },
  {
   "cell_type": "code",
   "execution_count": 13,
   "metadata": {},
   "outputs": [],
   "source": [
    "prev_week_tot = df.loc[(df.createdDate > prevWeekStartDate)].groupby(['ScrumTeam', 'IssueTypeRemap'])\\\n",
    ".size()"
   ]
  },
  {
   "cell_type": "code",
   "execution_count": 14,
   "metadata": {},
   "outputs": [
    {
     "data": {
      "text/html": [
       "<div>\n",
       "<style scoped>\n",
       "    .dataframe tbody tr th:only-of-type {\n",
       "        vertical-align: middle;\n",
       "    }\n",
       "\n",
       "    .dataframe tbody tr th {\n",
       "        vertical-align: top;\n",
       "    }\n",
       "\n",
       "    .dataframe thead th {\n",
       "        text-align: right;\n",
       "    }\n",
       "</style>\n",
       "<table border=\"1\" class=\"dataframe\">\n",
       "  <thead>\n",
       "    <tr style=\"text-align: right;\">\n",
       "      <th></th>\n",
       "      <th></th>\n",
       "      <th>Last week</th>\n",
       "    </tr>\n",
       "    <tr>\n",
       "      <th>ScrumTeam</th>\n",
       "      <th>IssueTypeRemap</th>\n",
       "      <th></th>\n",
       "    </tr>\n",
       "  </thead>\n",
       "  <tbody>\n",
       "    <tr>\n",
       "      <th rowspan=\"2\" valign=\"top\">Dragonflies</th>\n",
       "      <th>Bug</th>\n",
       "      <td>2</td>\n",
       "    </tr>\n",
       "    <tr>\n",
       "      <th>Task</th>\n",
       "      <td>1</td>\n",
       "    </tr>\n",
       "    <tr>\n",
       "      <th>Frontend Core</th>\n",
       "      <th>Task</th>\n",
       "      <td>7</td>\n",
       "    </tr>\n",
       "    <tr>\n",
       "      <th rowspan=\"2\" valign=\"top\">Huby</th>\n",
       "      <th>Bug</th>\n",
       "      <td>4</td>\n",
       "    </tr>\n",
       "    <tr>\n",
       "      <th>Task</th>\n",
       "      <td>11</td>\n",
       "    </tr>\n",
       "    <tr>\n",
       "      <th rowspan=\"2\" valign=\"top\">Meeseeks</th>\n",
       "      <th>Bug</th>\n",
       "      <td>18</td>\n",
       "    </tr>\n",
       "    <tr>\n",
       "      <th>Task</th>\n",
       "      <td>10</td>\n",
       "    </tr>\n",
       "    <tr>\n",
       "      <th>Payment Services</th>\n",
       "      <th>Bug</th>\n",
       "      <td>2</td>\n",
       "    </tr>\n",
       "    <tr>\n",
       "      <th rowspan=\"2\" valign=\"top\">SpaceDogs</th>\n",
       "      <th>Bug</th>\n",
       "      <td>1</td>\n",
       "    </tr>\n",
       "    <tr>\n",
       "      <th>Task</th>\n",
       "      <td>8</td>\n",
       "    </tr>\n",
       "    <tr>\n",
       "      <th rowspan=\"2\" valign=\"top\">Wanderlust</th>\n",
       "      <th>Bug</th>\n",
       "      <td>1</td>\n",
       "    </tr>\n",
       "    <tr>\n",
       "      <th>Task</th>\n",
       "      <td>10</td>\n",
       "    </tr>\n",
       "  </tbody>\n",
       "</table>\n",
       "</div>"
      ],
      "text/plain": [
       "                                 Last week\n",
       "ScrumTeam        IssueTypeRemap           \n",
       "Dragonflies      Bug                     2\n",
       "                 Task                    1\n",
       "Frontend Core    Task                    7\n",
       "Huby             Bug                     4\n",
       "                 Task                   11\n",
       "Meeseeks         Bug                    18\n",
       "                 Task                   10\n",
       "Payment Services Bug                     2\n",
       "SpaceDogs        Bug                     1\n",
       "                 Task                    8\n",
       "Wanderlust       Bug                     1\n",
       "                 Task                   10"
      ]
     },
     "execution_count": 14,
     "metadata": {},
     "output_type": "execute_result"
    }
   ],
   "source": [
    "prev_week_tot.reset_index().set_index(['ScrumTeam', 'IssueTypeRemap']).rename(columns={0: 'Last week'})"
   ]
  },
  {
   "cell_type": "code",
   "execution_count": 15,
   "metadata": {},
   "outputs": [
    {
     "data": {
      "text/plain": [
       "0     2021-02-08 08:52:00\n",
       "1     2021-02-08 08:44:00\n",
       "2     2021-02-08 08:13:00\n",
       "3     2021-02-08 08:06:00\n",
       "4     2021-02-08 07:24:00\n",
       "              ...        \n",
       "286   2021-01-25 10:59:00\n",
       "287   2021-01-25 10:24:00\n",
       "288   2021-01-25 10:04:00\n",
       "289   2021-01-25 09:53:00\n",
       "290   2021-01-25 09:17:00\n",
       "Name: createdDate, Length: 291, dtype: datetime64[ns]"
      ]
     },
     "execution_count": 15,
     "metadata": {},
     "output_type": "execute_result"
    }
   ],
   "source": [
    "df.createdDate"
   ]
  },
  {
   "cell_type": "code",
   "execution_count": 16,
   "metadata": {},
   "outputs": [],
   "source": [
    "prev_week = df.groupby(['ScrumTeam', 'IssueTypeRemap'])\\\n",
    ".size()\\\n",
    ".groupby(level=0).apply(lambda x: 100*x/x.sum())"
   ]
  },
  {
   "cell_type": "code",
   "execution_count": 17,
   "metadata": {},
   "outputs": [],
   "source": [
    "pwf = prev_week.reset_index().set_index(['ScrumTeam', 'IssueTypeRemap']).rename(columns={0: '1 Week ago %'})"
   ]
  },
  {
   "cell_type": "code",
   "execution_count": 18,
   "metadata": {},
   "outputs": [
    {
     "data": {
      "text/plain": [
       "<AxesSubplot:xlabel='ScrumTeam'>"
      ]
     },
     "execution_count": 18,
     "metadata": {},
     "output_type": "execute_result"
    },
    {
     "data": {
      "image/png": "[encoded data removed]",
      "text/plain": [
       "<Figure size 432x288 with 1 Axes>"
      ]
     },
     "metadata": {},
     "output_type": "display_data"
    }
   ],
   "source": [
    "\n",
    "pwf.reset_index().plot(x=\"ScrumTeam\", y=[\"1 Week ago %\"], kind=\"bar\")"
   ]
  },
  {
   "cell_type": "code",
   "execution_count": 19,
   "metadata": {},
   "outputs": [
    {
     "data": {
      "text/html": [
       "<div>\n",
       "<style scoped>\n",
       "    .dataframe tbody tr th:only-of-type {\n",
       "        vertical-align: middle;\n",
       "    }\n",
       "\n",
       "    .dataframe tbody tr th {\n",
       "        vertical-align: top;\n",
       "    }\n",
       "\n",
       "    .dataframe thead th {\n",
       "        text-align: right;\n",
       "    }\n",
       "</style>\n",
       "<table border=\"1\" class=\"dataframe\">\n",
       "  <thead>\n",
       "    <tr style=\"text-align: right;\">\n",
       "      <th></th>\n",
       "      <th></th>\n",
       "      <th>1 Week ago %</th>\n",
       "    </tr>\n",
       "    <tr>\n",
       "      <th>ScrumTeam</th>\n",
       "      <th>IssueTypeRemap</th>\n",
       "      <th></th>\n",
       "    </tr>\n",
       "  </thead>\n",
       "  <tbody>\n",
       "    <tr>\n",
       "      <th rowspan=\"2\" valign=\"top\">Dragonflies</th>\n",
       "      <th>Bug</th>\n",
       "      <td>28.571429</td>\n",
       "    </tr>\n",
       "    <tr>\n",
       "      <th>Task</th>\n",
       "      <td>71.428571</td>\n",
       "    </tr>\n",
       "    <tr>\n",
       "      <th>Frontend Core</th>\n",
       "      <th>Task</th>\n",
       "      <td>100.000000</td>\n",
       "    </tr>\n",
       "    <tr>\n",
       "      <th rowspan=\"2\" valign=\"top\">Huby</th>\n",
       "      <th>Bug</th>\n",
       "      <td>9.756098</td>\n",
       "    </tr>\n",
       "    <tr>\n",
       "      <th>Task</th>\n",
       "      <td>90.243902</td>\n",
       "    </tr>\n",
       "    <tr>\n",
       "      <th>Kakauko</th>\n",
       "      <th>Task</th>\n",
       "      <td>100.000000</td>\n",
       "    </tr>\n",
       "    <tr>\n",
       "      <th rowspan=\"2\" valign=\"top\">Meeseeks</th>\n",
       "      <th>Bug</th>\n",
       "      <td>64.197531</td>\n",
       "    </tr>\n",
       "    <tr>\n",
       "      <th>Task</th>\n",
       "      <td>35.802469</td>\n",
       "    </tr>\n",
       "    <tr>\n",
       "      <th rowspan=\"2\" valign=\"top\">Payment Services</th>\n",
       "      <th>Bug</th>\n",
       "      <td>75.000000</td>\n",
       "    </tr>\n",
       "    <tr>\n",
       "      <th>Task</th>\n",
       "      <td>25.000000</td>\n",
       "    </tr>\n",
       "    <tr>\n",
       "      <th>Rooms</th>\n",
       "      <th>Task</th>\n",
       "      <td>100.000000</td>\n",
       "    </tr>\n",
       "    <tr>\n",
       "      <th rowspan=\"2\" valign=\"top\">SpaceDogs</th>\n",
       "      <th>Bug</th>\n",
       "      <td>5.000000</td>\n",
       "    </tr>\n",
       "    <tr>\n",
       "      <th>Task</th>\n",
       "      <td>95.000000</td>\n",
       "    </tr>\n",
       "    <tr>\n",
       "      <th rowspan=\"2\" valign=\"top\">Wanderlust</th>\n",
       "      <th>Bug</th>\n",
       "      <td>13.636364</td>\n",
       "    </tr>\n",
       "    <tr>\n",
       "      <th>Task</th>\n",
       "      <td>86.363636</td>\n",
       "    </tr>\n",
       "  </tbody>\n",
       "</table>\n",
       "</div>"
      ],
      "text/plain": [
       "                                 1 Week ago %\n",
       "ScrumTeam        IssueTypeRemap              \n",
       "Dragonflies      Bug                28.571429\n",
       "                 Task               71.428571\n",
       "Frontend Core    Task              100.000000\n",
       "Huby             Bug                 9.756098\n",
       "                 Task               90.243902\n",
       "Kakauko          Task              100.000000\n",
       "Meeseeks         Bug                64.197531\n",
       "                 Task               35.802469\n",
       "Payment Services Bug                75.000000\n",
       "                 Task               25.000000\n",
       "Rooms            Task              100.000000\n",
       "SpaceDogs        Bug                 5.000000\n",
       "                 Task               95.000000\n",
       "Wanderlust       Bug                13.636364\n",
       "                 Task               86.363636"
      ]
     },
     "execution_count": 19,
     "metadata": {},
     "output_type": "execute_result"
    }
   ],
   "source": [
    "pwf"
   ]
  },
  {
   "cell_type": "code",
   "execution_count": null,
   "metadata": {},
   "outputs": [],
   "source": []
  },
  {
   "cell_type": "code",
   "execution_count": null,
   "metadata": {},
   "outputs": [],
   "source": []
  },
  {
   "cell_type": "code",
   "execution_count": null,
   "metadata": {},
   "outputs": [],
   "source": []
  }
 ],
 "metadata": {
  "kernelspec": {
   "display_name": "Python 3",
   "language": "python",
   "name": "python3"
  },
  "language_info": {
   "codemirror_mode": {
    "name": "ipython",
    "version": 3
   },
   "file_extension": ".py",
   "mimetype": "text/x-python",
   "name": "python",
   "nbconvert_exporter": "python",
   "pygments_lexer": "ipython3",
   "version": "3.9.1"
  }
 },
 "nbformat": 4,
 "nbformat_minor": 4
}
